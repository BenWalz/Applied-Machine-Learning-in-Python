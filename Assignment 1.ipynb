{
 "cells": [
  {
   "cell_type": "markdown",
   "source": [
    "---\n",
    "\n",
    "_You are currently looking at **version 1.3** of this notebook. To download notebooks and datafiles, as well as get help on Jupyter notebooks in the Coursera platform, visit the [Jupyter Notebook FAQ](https://www.coursera.org/learn/python-machine-learning/resources/bANLa) course resource._\n",
    "\n",
    "---"
   ],
   "metadata": {}
  },
  {
   "cell_type": "markdown",
   "source": [
    "# Assignment 1 - Introduction to Machine Learning"
   ],
   "metadata": {}
  },
  {
   "cell_type": "markdown",
   "source": [
    "For this assignment, you will be using the Breast Cancer Wisconsin (Diagnostic) Database to create a classifier that can help diagnose patients. First, read through the description of the dataset (below)."
   ],
   "metadata": {}
  },
  {
   "cell_type": "code",
   "execution_count": 1,
   "source": [
    "import numpy as np\n",
    "import pandas as pd\n",
    "from sklearn.datasets import load_breast_cancer\n",
    "\n",
    "cancer = load_breast_cancer()\n",
    "\n",
    "print(cancer.DESCR) # Print the data set description"
   ],
   "outputs": [
    {
     "output_type": "stream",
     "name": "stdout",
     "text": [
      ".. _breast_cancer_dataset:\n\nBreast cancer wisconsin (diagnostic) dataset\n--------------------------------------------\n\n**Data Set Characteristics:**\n\n    :Number of Instances: 569\n\n    :Number of Attributes: 30 numeric, predictive attributes and the class\n\n    :Attribute Information:\n        - radius (mean of distances from center to points on the perimeter)\n        - texture (standard deviation of gray-scale values)\n        - perimeter\n        - area\n        - smoothness (local variation in radius lengths)\n        - compactness (perimeter^2 / area - 1.0)\n        - concavity (severity of concave portions of the contour)\n        - concave points (number of concave portions of the contour)\n        - symmetry\n        - fractal dimension (\"coastline approximation\" - 1)\n\n        The mean, standard error, and \"worst\" or largest (mean of the three\n        worst/largest values) of these features were computed for each image,\n        resulting in 30 features.  For instance, field 0 is Mean Radius, field\n        10 is Radius SE, field 20 is Worst Radius.\n\n        - class:\n                - WDBC-Malignant\n                - WDBC-Benign\n\n    :Summary Statistics:\n\n    ===================================== ====== ======\n                                           Min    Max\n    ===================================== ====== ======\n    radius (mean):                        6.981  28.11\n    texture (mean):                       9.71   39.28\n    perimeter (mean):                     43.79  188.5\n    area (mean):                          143.5  2501.0\n    smoothness (mean):                    0.053  0.163\n    compactness (mean):                   0.019  0.345\n    concavity (mean):                     0.0    0.427\n    concave points (mean):                0.0    0.201\n    symmetry (mean):                      0.106  0.304\n    fractal dimension (mean):             0.05   0.097\n    radius (standard error):              0.112  2.873\n    texture (standard error):             0.36   4.885\n    perimeter (standard error):           0.757  21.98\n    area (standard error):                6.802  542.2\n    smoothness (standard error):          0.002  0.031\n    compactness (standard error):         0.002  0.135\n    concavity (standard error):           0.0    0.396\n    concave points (standard error):      0.0    0.053\n    symmetry (standard error):            0.008  0.079\n    fractal dimension (standard error):   0.001  0.03\n    radius (worst):                       7.93   36.04\n    texture (worst):                      12.02  49.54\n    perimeter (worst):                    50.41  251.2\n    area (worst):                         185.2  4254.0\n    smoothness (worst):                   0.071  0.223\n    compactness (worst):                  0.027  1.058\n    concavity (worst):                    0.0    1.252\n    concave points (worst):               0.0    0.291\n    symmetry (worst):                     0.156  0.664\n    fractal dimension (worst):            0.055  0.208\n    ===================================== ====== ======\n\n    :Missing Attribute Values: None\n\n    :Class Distribution: 212 - Malignant, 357 - Benign\n\n    :Creator:  Dr. William H. Wolberg, W. Nick Street, Olvi L. Mangasarian\n\n    :Donor: Nick Street\n\n    :Date: November, 1995\n\nThis is a copy of UCI ML Breast Cancer Wisconsin (Diagnostic) datasets.\nhttps://goo.gl/U2Uwz2\n\nFeatures are computed from a digitized image of a fine needle\naspirate (FNA) of a breast mass.  They describe\ncharacteristics of the cell nuclei present in the image.\n\nSeparating plane described above was obtained using\nMultisurface Method-Tree (MSM-T) [K. P. Bennett, \"Decision Tree\nConstruction Via Linear Programming.\" Proceedings of the 4th\nMidwest Artificial Intelligence and Cognitive Science Society,\npp. 97-101, 1992], a classification method which uses linear\nprogramming to construct a decision tree.  Relevant features\nwere selected using an exhaustive search in the space of 1-4\nfeatures and 1-3 separating planes.\n\nThe actual linear program used to obtain the separating plane\nin the 3-dimensional space is that described in:\n[K. P. Bennett and O. L. Mangasarian: \"Robust Linear\nProgramming Discrimination of Two Linearly Inseparable Sets\",\nOptimization Methods and Software 1, 1992, 23-34].\n\nThis database is also available through the UW CS ftp server:\n\nftp ftp.cs.wisc.edu\ncd math-prog/cpo-dataset/machine-learn/WDBC/\n\n.. topic:: References\n\n   - W.N. Street, W.H. Wolberg and O.L. Mangasarian. Nuclear feature extraction \n     for breast tumor diagnosis. IS&T/SPIE 1993 International Symposium on \n     Electronic Imaging: Science and Technology, volume 1905, pages 861-870,\n     San Jose, CA, 1993.\n   - O.L. Mangasarian, W.N. Street and W.H. Wolberg. Breast cancer diagnosis and \n     prognosis via linear programming. Operations Research, 43(4), pages 570-577, \n     July-August 1995.\n   - W.H. Wolberg, W.N. Street, and O.L. Mangasarian. Machine learning techniques\n     to diagnose breast cancer from fine-needle aspirates. Cancer Letters 77 (1994) \n     163-171.\n"
     ]
    }
   ],
   "metadata": {
    "collapsed": false
   }
  },
  {
   "cell_type": "markdown",
   "source": [
    "The object returned by `load_breast_cancer()` is a scikit-learn Bunch object, which is similar to a dictionary."
   ],
   "metadata": {}
  },
  {
   "cell_type": "code",
   "execution_count": 2,
   "source": [
    "cancer.keys()"
   ],
   "outputs": [
    {
     "output_type": "execute_result",
     "data": {
      "text/plain": [
       "dict_keys(['data', 'target', 'frame', 'target_names', 'DESCR', 'feature_names', 'filename'])"
      ]
     },
     "metadata": {},
     "execution_count": 2
    }
   ],
   "metadata": {
    "collapsed": false
   }
  },
  {
   "cell_type": "code",
   "execution_count": 3,
   "source": [
    "# data : Bunch\r\n",
    "# Dictionary-like object, the interesting attributes are:\r\n",
    "# ‘data’, the data to learn,\r\n",
    "# ‘target’, the classification labels, \r\n",
    "# ‘target_names’, the meaning of the labels, \r\n",
    "# ‘feature_names’, the meaning of the features, \r\n",
    "# ‘DESCR’, the full description of the dataset, \r\n",
    "# ‘filename’, the physical location of iris csv dataset "
   ],
   "outputs": [],
   "metadata": {
    "collapsed": true
   }
  },
  {
   "cell_type": "markdown",
   "source": [
    "### Question 0 (Example)\n",
    "\n",
    "How many features does the breast cancer dataset have?\n",
    "\n",
    "*This function should return an integer.*"
   ],
   "metadata": {}
  },
  {
   "cell_type": "code",
   "execution_count": 3,
   "source": [
    "# You should write your whole answer within the function provided. The autograder will call\n",
    "# this function and compare the return value against the correct solution value\n",
    "def answer_zero():\n",
    "    # This function returns the number of features of the breast cancer dataset, which is an integer. \n",
    "    # The assignment question description will tell you the general format the autograder is expecting\n",
    "    return len(cancer['feature_names'])\n",
    "\n",
    "# You can examine what your function returns by calling it in the cell. If you have questions\n",
    "# about the assignment formats, check out the discussion forums for any FAQs\n",
    "answer_zero() "
   ],
   "outputs": [
    {
     "output_type": "execute_result",
     "data": {
      "text/plain": [
       "30"
      ]
     },
     "metadata": {},
     "execution_count": 3
    }
   ],
   "metadata": {
    "collapsed": false
   }
  },
  {
   "cell_type": "markdown",
   "source": [
    "### Question 1\n",
    "\n",
    "Scikit-learn works with lists, numpy arrays, scipy-sparse matrices, and pandas DataFrames, so converting the dataset to a DataFrame is not necessary for training this model. Using a DataFrame does however help make many things easier such as munging data, so let's practice creating a classifier with a pandas DataFrame. \n",
    "\n",
    "\n",
    "\n",
    "Convert the sklearn.dataset `cancer` to a DataFrame. \n",
    "\n",
    "*This function should return a `(569, 31)` DataFrame with * \n",
    "\n",
    "*columns = *\n",
    "\n",
    "    ['mean radius', 'mean texture', 'mean perimeter', 'mean area',\n",
    "    'mean smoothness', 'mean compactness', 'mean concavity',\n",
    "    'mean concave points', 'mean symmetry', 'mean fractal dimension',\n",
    "    'radius error', 'texture error', 'perimeter error', 'area error',\n",
    "    'smoothness error', 'compactness error', 'concavity error',\n",
    "    'concave points error', 'symmetry error', 'fractal dimension error',\n",
    "    'worst radius', 'worst texture', 'worst perimeter', 'worst area',\n",
    "    'worst smoothness', 'worst compactness', 'worst concavity',\n",
    "    'worst concave points', 'worst symmetry', 'worst fractal dimension',\n",
    "    'target']\n",
    "\n",
    "*and index = *\n",
    "\n",
    "    RangeIndex(start=0, stop=569, step=1)"
   ],
   "metadata": {}
  },
  {
   "cell_type": "code",
   "execution_count": 4,
   "source": [
    "def answer_one():\n",
    "    \n",
    "    df = pd.DataFrame(cancer.data)\n",
    "    df2 = pd.DataFrame(cancer.target)\n",
    "    df_merge = pd.concat([df,df2], axis=1)\n",
    "    df_merge.columns = np.append(cancer.feature_names,'target')\n",
    "    return df_merge\n",
    "\n",
    "answer_one()"
   ],
   "outputs": [
    {
     "output_type": "execute_result",
     "data": {
      "text/plain": [
       "     mean radius  mean texture  mean perimeter  mean area  mean smoothness  \\\n",
       "0          17.99         10.38          122.80     1001.0          0.11840   \n",
       "1          20.57         17.77          132.90     1326.0          0.08474   \n",
       "2          19.69         21.25          130.00     1203.0          0.10960   \n",
       "3          11.42         20.38           77.58      386.1          0.14250   \n",
       "4          20.29         14.34          135.10     1297.0          0.10030   \n",
       "..           ...           ...             ...        ...              ...   \n",
       "564        21.56         22.39          142.00     1479.0          0.11100   \n",
       "565        20.13         28.25          131.20     1261.0          0.09780   \n",
       "566        16.60         28.08          108.30      858.1          0.08455   \n",
       "567        20.60         29.33          140.10     1265.0          0.11780   \n",
       "568         7.76         24.54           47.92      181.0          0.05263   \n",
       "\n",
       "     mean compactness  mean concavity  mean concave points  mean symmetry  \\\n",
       "0             0.27760         0.30010              0.14710         0.2419   \n",
       "1             0.07864         0.08690              0.07017         0.1812   \n",
       "2             0.15990         0.19740              0.12790         0.2069   \n",
       "3             0.28390         0.24140              0.10520         0.2597   \n",
       "4             0.13280         0.19800              0.10430         0.1809   \n",
       "..                ...             ...                  ...            ...   \n",
       "564           0.11590         0.24390              0.13890         0.1726   \n",
       "565           0.10340         0.14400              0.09791         0.1752   \n",
       "566           0.10230         0.09251              0.05302         0.1590   \n",
       "567           0.27700         0.35140              0.15200         0.2397   \n",
       "568           0.04362         0.00000              0.00000         0.1587   \n",
       "\n",
       "     mean fractal dimension  ...  worst texture  worst perimeter  worst area  \\\n",
       "0                   0.07871  ...          17.33           184.60      2019.0   \n",
       "1                   0.05667  ...          23.41           158.80      1956.0   \n",
       "2                   0.05999  ...          25.53           152.50      1709.0   \n",
       "3                   0.09744  ...          26.50            98.87       567.7   \n",
       "4                   0.05883  ...          16.67           152.20      1575.0   \n",
       "..                      ...  ...            ...              ...         ...   \n",
       "564                 0.05623  ...          26.40           166.10      2027.0   \n",
       "565                 0.05533  ...          38.25           155.00      1731.0   \n",
       "566                 0.05648  ...          34.12           126.70      1124.0   \n",
       "567                 0.07016  ...          39.42           184.60      1821.0   \n",
       "568                 0.05884  ...          30.37            59.16       268.6   \n",
       "\n",
       "     worst smoothness  worst compactness  worst concavity  \\\n",
       "0             0.16220            0.66560           0.7119   \n",
       "1             0.12380            0.18660           0.2416   \n",
       "2             0.14440            0.42450           0.4504   \n",
       "3             0.20980            0.86630           0.6869   \n",
       "4             0.13740            0.20500           0.4000   \n",
       "..                ...                ...              ...   \n",
       "564           0.14100            0.21130           0.4107   \n",
       "565           0.11660            0.19220           0.3215   \n",
       "566           0.11390            0.30940           0.3403   \n",
       "567           0.16500            0.86810           0.9387   \n",
       "568           0.08996            0.06444           0.0000   \n",
       "\n",
       "     worst concave points  worst symmetry  worst fractal dimension  target  \n",
       "0                  0.2654          0.4601                  0.11890       0  \n",
       "1                  0.1860          0.2750                  0.08902       0  \n",
       "2                  0.2430          0.3613                  0.08758       0  \n",
       "3                  0.2575          0.6638                  0.17300       0  \n",
       "4                  0.1625          0.2364                  0.07678       0  \n",
       "..                    ...             ...                      ...     ...  \n",
       "564                0.2216          0.2060                  0.07115       0  \n",
       "565                0.1628          0.2572                  0.06637       0  \n",
       "566                0.1418          0.2218                  0.07820       0  \n",
       "567                0.2650          0.4087                  0.12400       0  \n",
       "568                0.0000          0.2871                  0.07039       1  \n",
       "\n",
       "[569 rows x 31 columns]"
      ],
      "text/html": "<div>\n<style scoped>\n    .dataframe tbody tr th:only-of-type {\n        vertical-align: middle;\n    }\n\n    .dataframe tbody tr th {\n        vertical-align: top;\n    }\n\n    .dataframe thead th {\n        text-align: right;\n    }\n</style>\n<table border=\"1\" class=\"dataframe\">\n  <thead>\n    <tr style=\"text-align: right;\">\n      <th></th>\n      <th>mean radius</th>\n      <th>mean texture</th>\n      <th>mean perimeter</th>\n      <th>mean area</th>\n      <th>mean smoothness</th>\n      <th>mean compactness</th>\n      <th>mean concavity</th>\n      <th>mean concave points</th>\n      <th>mean symmetry</th>\n      <th>mean fractal dimension</th>\n      <th>...</th>\n      <th>worst texture</th>\n      <th>worst perimeter</th>\n      <th>worst area</th>\n      <th>worst smoothness</th>\n      <th>worst compactness</th>\n      <th>worst concavity</th>\n      <th>worst concave points</th>\n      <th>worst symmetry</th>\n      <th>worst fractal dimension</th>\n      <th>target</th>\n    </tr>\n  </thead>\n  <tbody>\n    <tr>\n      <th>0</th>\n      <td>17.99</td>\n      <td>10.38</td>\n      <td>122.80</td>\n      <td>1001.0</td>\n      <td>0.11840</td>\n      <td>0.27760</td>\n      <td>0.30010</td>\n      <td>0.14710</td>\n      <td>0.2419</td>\n      <td>0.07871</td>\n      <td>...</td>\n      <td>17.33</td>\n      <td>184.60</td>\n      <td>2019.0</td>\n      <td>0.16220</td>\n      <td>0.66560</td>\n      <td>0.7119</td>\n      <td>0.2654</td>\n      <td>0.4601</td>\n      <td>0.11890</td>\n      <td>0</td>\n    </tr>\n    <tr>\n      <th>1</th>\n      <td>20.57</td>\n      <td>17.77</td>\n      <td>132.90</td>\n      <td>1326.0</td>\n      <td>0.08474</td>\n      <td>0.07864</td>\n      <td>0.08690</td>\n      <td>0.07017</td>\n      <td>0.1812</td>\n      <td>0.05667</td>\n      <td>...</td>\n      <td>23.41</td>\n      <td>158.80</td>\n      <td>1956.0</td>\n      <td>0.12380</td>\n      <td>0.18660</td>\n      <td>0.2416</td>\n      <td>0.1860</td>\n      <td>0.2750</td>\n      <td>0.08902</td>\n      <td>0</td>\n    </tr>\n    <tr>\n      <th>2</th>\n      <td>19.69</td>\n      <td>21.25</td>\n      <td>130.00</td>\n      <td>1203.0</td>\n      <td>0.10960</td>\n      <td>0.15990</td>\n      <td>0.19740</td>\n      <td>0.12790</td>\n      <td>0.2069</td>\n      <td>0.05999</td>\n      <td>...</td>\n      <td>25.53</td>\n      <td>152.50</td>\n      <td>1709.0</td>\n      <td>0.14440</td>\n      <td>0.42450</td>\n      <td>0.4504</td>\n      <td>0.2430</td>\n      <td>0.3613</td>\n      <td>0.08758</td>\n      <td>0</td>\n    </tr>\n    <tr>\n      <th>3</th>\n      <td>11.42</td>\n      <td>20.38</td>\n      <td>77.58</td>\n      <td>386.1</td>\n      <td>0.14250</td>\n      <td>0.28390</td>\n      <td>0.24140</td>\n      <td>0.10520</td>\n      <td>0.2597</td>\n      <td>0.09744</td>\n      <td>...</td>\n      <td>26.50</td>\n      <td>98.87</td>\n      <td>567.7</td>\n      <td>0.20980</td>\n      <td>0.86630</td>\n      <td>0.6869</td>\n      <td>0.2575</td>\n      <td>0.6638</td>\n      <td>0.17300</td>\n      <td>0</td>\n    </tr>\n    <tr>\n      <th>4</th>\n      <td>20.29</td>\n      <td>14.34</td>\n      <td>135.10</td>\n      <td>1297.0</td>\n      <td>0.10030</td>\n      <td>0.13280</td>\n      <td>0.19800</td>\n      <td>0.10430</td>\n      <td>0.1809</td>\n      <td>0.05883</td>\n      <td>...</td>\n      <td>16.67</td>\n      <td>152.20</td>\n      <td>1575.0</td>\n      <td>0.13740</td>\n      <td>0.20500</td>\n      <td>0.4000</td>\n      <td>0.1625</td>\n      <td>0.2364</td>\n      <td>0.07678</td>\n      <td>0</td>\n    </tr>\n    <tr>\n      <th>...</th>\n      <td>...</td>\n      <td>...</td>\n      <td>...</td>\n      <td>...</td>\n      <td>...</td>\n      <td>...</td>\n      <td>...</td>\n      <td>...</td>\n      <td>...</td>\n      <td>...</td>\n      <td>...</td>\n      <td>...</td>\n      <td>...</td>\n      <td>...</td>\n      <td>...</td>\n      <td>...</td>\n      <td>...</td>\n      <td>...</td>\n      <td>...</td>\n      <td>...</td>\n      <td>...</td>\n    </tr>\n    <tr>\n      <th>564</th>\n      <td>21.56</td>\n      <td>22.39</td>\n      <td>142.00</td>\n      <td>1479.0</td>\n      <td>0.11100</td>\n      <td>0.11590</td>\n      <td>0.24390</td>\n      <td>0.13890</td>\n      <td>0.1726</td>\n      <td>0.05623</td>\n      <td>...</td>\n      <td>26.40</td>\n      <td>166.10</td>\n      <td>2027.0</td>\n      <td>0.14100</td>\n      <td>0.21130</td>\n      <td>0.4107</td>\n      <td>0.2216</td>\n      <td>0.2060</td>\n      <td>0.07115</td>\n      <td>0</td>\n    </tr>\n    <tr>\n      <th>565</th>\n      <td>20.13</td>\n      <td>28.25</td>\n      <td>131.20</td>\n      <td>1261.0</td>\n      <td>0.09780</td>\n      <td>0.10340</td>\n      <td>0.14400</td>\n      <td>0.09791</td>\n      <td>0.1752</td>\n      <td>0.05533</td>\n      <td>...</td>\n      <td>38.25</td>\n      <td>155.00</td>\n      <td>1731.0</td>\n      <td>0.11660</td>\n      <td>0.19220</td>\n      <td>0.3215</td>\n      <td>0.1628</td>\n      <td>0.2572</td>\n      <td>0.06637</td>\n      <td>0</td>\n    </tr>\n    <tr>\n      <th>566</th>\n      <td>16.60</td>\n      <td>28.08</td>\n      <td>108.30</td>\n      <td>858.1</td>\n      <td>0.08455</td>\n      <td>0.10230</td>\n      <td>0.09251</td>\n      <td>0.05302</td>\n      <td>0.1590</td>\n      <td>0.05648</td>\n      <td>...</td>\n      <td>34.12</td>\n      <td>126.70</td>\n      <td>1124.0</td>\n      <td>0.11390</td>\n      <td>0.30940</td>\n      <td>0.3403</td>\n      <td>0.1418</td>\n      <td>0.2218</td>\n      <td>0.07820</td>\n      <td>0</td>\n    </tr>\n    <tr>\n      <th>567</th>\n      <td>20.60</td>\n      <td>29.33</td>\n      <td>140.10</td>\n      <td>1265.0</td>\n      <td>0.11780</td>\n      <td>0.27700</td>\n      <td>0.35140</td>\n      <td>0.15200</td>\n      <td>0.2397</td>\n      <td>0.07016</td>\n      <td>...</td>\n      <td>39.42</td>\n      <td>184.60</td>\n      <td>1821.0</td>\n      <td>0.16500</td>\n      <td>0.86810</td>\n      <td>0.9387</td>\n      <td>0.2650</td>\n      <td>0.4087</td>\n      <td>0.12400</td>\n      <td>0</td>\n    </tr>\n    <tr>\n      <th>568</th>\n      <td>7.76</td>\n      <td>24.54</td>\n      <td>47.92</td>\n      <td>181.0</td>\n      <td>0.05263</td>\n      <td>0.04362</td>\n      <td>0.00000</td>\n      <td>0.00000</td>\n      <td>0.1587</td>\n      <td>0.05884</td>\n      <td>...</td>\n      <td>30.37</td>\n      <td>59.16</td>\n      <td>268.6</td>\n      <td>0.08996</td>\n      <td>0.06444</td>\n      <td>0.0000</td>\n      <td>0.0000</td>\n      <td>0.2871</td>\n      <td>0.07039</td>\n      <td>1</td>\n    </tr>\n  </tbody>\n</table>\n<p>569 rows × 31 columns</p>\n</div>"
     },
     "metadata": {},
     "execution_count": 4
    }
   ],
   "metadata": {
    "collapsed": false
   }
  },
  {
   "cell_type": "markdown",
   "source": [
    "### Question 2\n",
    "What is the class distribution? (i.e. how many instances of `malignant` (encoded 0) and how many `benign` (encoded 1)?)\n",
    "\n",
    "*This function should return a Series named `target` of length 2 with integer values and index =* `['malignant', 'benign']`"
   ],
   "metadata": {}
  },
  {
   "cell_type": "code",
   "execution_count": 6,
   "source": [
    "def answer_two():\n",
    "    cancerdf = answer_one()\n",
    "    \n",
    "    target = cancerdf['target'].value_counts()\n",
    "    target\n",
    "    malignant_value = 0\n",
    "    benign_value = 0\n",
    "\n",
    "    for value in cancerdf['target']:\n",
    "        if value == 1:\n",
    "            benign_value+=1\n",
    "        else:\n",
    "            malignant_value+=1\n",
    "\n",
    "    target = pd.Series([benign_value,malignant_value],index=['benign','malignant'])\n",
    "\n",
    "    return target\n",
    "\n",
    "answer_two()"
   ],
   "outputs": [
    {
     "output_type": "execute_result",
     "data": {
      "text/plain": [
       "benign       357\n",
       "malignant    212\n",
       "dtype: int64"
      ]
     },
     "metadata": {},
     "execution_count": 6
    }
   ],
   "metadata": {
    "collapsed": false
   }
  },
  {
   "cell_type": "markdown",
   "source": [
    "### Question 3\n",
    "Split the DataFrame into `X` (the data) and `y` (the labels).\n",
    "\n",
    "*This function should return a tuple of length 2:* `(X, y)`*, where* \n",
    "* `X`*, a pandas DataFrame, has shape* `(569, 30)`\n",
    "* `y`*, a pandas Series, has shape* `(569,)`."
   ],
   "metadata": {}
  },
  {
   "cell_type": "code",
   "execution_count": 40,
   "metadata": {},
   "outputs": [
    {
     "output_type": "stream",
     "text": [
      "\u001b[1;31mType:\u001b[0m        Series\n",
      "\u001b[1;31mString form:\u001b[0m\n",
      "0                     0\n",
      "           1                     0\n",
      "           2                     0\n",
      "           3                     0\n",
      "           4 <...>        0\n",
      "           568                   1\n",
      "           test    [1, 2, 3, 4, 5]\n",
      "           Name: target, Length: 570, dtype: object\n",
      "\u001b[1;31mLength:\u001b[0m      570\n",
      "\u001b[1;31mFile:\u001b[0m        c:\\users\\benja\\anaconda3\\lib\\site-packages\\pandas\\core\\series.py\n",
      "\u001b[1;31mDocstring:\u001b[0m  \n",
      "One-dimensional ndarray with axis labels (including time series).\n",
      "\n",
      "Labels need not be unique but must be a hashable type. The object\n",
      "supports both integer- and label-based indexing and provides a host of\n",
      "methods for performing operations involving the index. Statistical\n",
      "methods from ndarray have been overridden to automatically exclude\n",
      "missing data (currently represented as NaN).\n",
      "\n",
      "Operations between Series (+, -, /, *, **) align values based on their\n",
      "associated index values-- they need not be the same length. The result\n",
      "index will be the sorted union of the two indexes.\n",
      "\n",
      "Parameters\n",
      "----------\n",
      "data : array-like, Iterable, dict, or scalar value\n",
      "    Contains data stored in Series. If data is a dict, argument order is\n",
      "    maintained.\n",
      "index : array-like or Index (1d)\n",
      "    Values must be hashable and have the same length as `data`.\n",
      "    Non-unique index values are allowed. Will default to\n",
      "    RangeIndex (0, 1, 2, ..., n) if not provided. If data is dict-like\n",
      "    and index is None, then the keys in the data are used as the index. If the\n",
      "    index is not None, the resulting Series is reindexed with the index values.\n",
      "dtype : str, numpy.dtype, or ExtensionDtype, optional\n",
      "    Data type for the output Series. If not specified, this will be\n",
      "    inferred from `data`.\n",
      "    See the :ref:`user guide <basics.dtypes>` for more usages.\n",
      "name : str, optional\n",
      "    The name to give to the Series.\n",
      "copy : bool, default False\n",
      "    Copy input data.\n",
      "\n",
      "Examples\n",
      "--------\n",
      "Constructing Series from a dictionary with an Index specified\n",
      "\n",
      ">>> d = {'a': 1, 'b': 2, 'c': 3}\n",
      ">>> ser = pd.Series(data=d, index=['a', 'b', 'c'])\n",
      ">>> ser\n",
      "a   1\n",
      "b   2\n",
      "c   3\n",
      "dtype: int64\n",
      "\n",
      "The keys of the dictionary match with the Index values, hence the Index\n",
      "values have no effect.\n",
      "\n",
      ">>> d = {'a': 1, 'b': 2, 'c': 3}\n",
      ">>> ser = pd.Series(data=d, index=['x', 'y', 'z'])\n",
      ">>> ser\n",
      "x   NaN\n",
      "y   NaN\n",
      "z   NaN\n",
      "dtype: float64\n",
      "\n",
      "Note that the Index is first build with the keys from the dictionary.\n",
      "After this the Series is reindexed with the given Index values, hence we\n",
      "get all NaN as a result.\n"
     ],
     "name": "stdout"
    }
   ],
   "source": [
    "\n"
   ]
  },
  {
   "cell_type": "code",
   "execution_count": 41,
   "source": [
    "# The last column 'target' has the labels.\n",
    "\n",
    "def answer_three():\n",
    "    cancerdf = answer_one()\n",
    "    X = cancerdf.iloc[:, 0:30].copy()\n",
    "    y = cancerdf.loc[:,'target'].copy()\n",
    "    \n",
    "    return X, y\n",
    "\n",
    "answer_three()"
   ],
   "outputs": [
    {
     "output_type": "execute_result",
     "data": {
      "text/plain": [
       "(     mean radius  mean texture  mean perimeter  mean area  mean smoothness  \\\n",
       " 0          17.99         10.38          122.80     1001.0          0.11840   \n",
       " 1          20.57         17.77          132.90     1326.0          0.08474   \n",
       " 2          19.69         21.25          130.00     1203.0          0.10960   \n",
       " 3          11.42         20.38           77.58      386.1          0.14250   \n",
       " 4          20.29         14.34          135.10     1297.0          0.10030   \n",
       " ..           ...           ...             ...        ...              ...   \n",
       " 564        21.56         22.39          142.00     1479.0          0.11100   \n",
       " 565        20.13         28.25          131.20     1261.0          0.09780   \n",
       " 566        16.60         28.08          108.30      858.1          0.08455   \n",
       " 567        20.60         29.33          140.10     1265.0          0.11780   \n",
       " 568         7.76         24.54           47.92      181.0          0.05263   \n",
       " \n",
       "      mean compactness  mean concavity  mean concave points  mean symmetry  \\\n",
       " 0             0.27760         0.30010              0.14710         0.2419   \n",
       " 1             0.07864         0.08690              0.07017         0.1812   \n",
       " 2             0.15990         0.19740              0.12790         0.2069   \n",
       " 3             0.28390         0.24140              0.10520         0.2597   \n",
       " 4             0.13280         0.19800              0.10430         0.1809   \n",
       " ..                ...             ...                  ...            ...   \n",
       " 564           0.11590         0.24390              0.13890         0.1726   \n",
       " 565           0.10340         0.14400              0.09791         0.1752   \n",
       " 566           0.10230         0.09251              0.05302         0.1590   \n",
       " 567           0.27700         0.35140              0.15200         0.2397   \n",
       " 568           0.04362         0.00000              0.00000         0.1587   \n",
       " \n",
       "      mean fractal dimension  ...  worst radius  worst texture  \\\n",
       " 0                   0.07871  ...        25.380          17.33   \n",
       " 1                   0.05667  ...        24.990          23.41   \n",
       " 2                   0.05999  ...        23.570          25.53   \n",
       " 3                   0.09744  ...        14.910          26.50   \n",
       " 4                   0.05883  ...        22.540          16.67   \n",
       " ..                      ...  ...           ...            ...   \n",
       " 564                 0.05623  ...        25.450          26.40   \n",
       " 565                 0.05533  ...        23.690          38.25   \n",
       " 566                 0.05648  ...        18.980          34.12   \n",
       " 567                 0.07016  ...        25.740          39.42   \n",
       " 568                 0.05884  ...         9.456          30.37   \n",
       " \n",
       "      worst perimeter  worst area  worst smoothness  worst compactness  \\\n",
       " 0             184.60      2019.0           0.16220            0.66560   \n",
       " 1             158.80      1956.0           0.12380            0.18660   \n",
       " 2             152.50      1709.0           0.14440            0.42450   \n",
       " 3              98.87       567.7           0.20980            0.86630   \n",
       " 4             152.20      1575.0           0.13740            0.20500   \n",
       " ..               ...         ...               ...                ...   \n",
       " 564           166.10      2027.0           0.14100            0.21130   \n",
       " 565           155.00      1731.0           0.11660            0.19220   \n",
       " 566           126.70      1124.0           0.11390            0.30940   \n",
       " 567           184.60      1821.0           0.16500            0.86810   \n",
       " 568            59.16       268.6           0.08996            0.06444   \n",
       " \n",
       "      worst concavity  worst concave points  worst symmetry  \\\n",
       " 0             0.7119                0.2654          0.4601   \n",
       " 1             0.2416                0.1860          0.2750   \n",
       " 2             0.4504                0.2430          0.3613   \n",
       " 3             0.6869                0.2575          0.6638   \n",
       " 4             0.4000                0.1625          0.2364   \n",
       " ..               ...                   ...             ...   \n",
       " 564           0.4107                0.2216          0.2060   \n",
       " 565           0.3215                0.1628          0.2572   \n",
       " 566           0.3403                0.1418          0.2218   \n",
       " 567           0.9387                0.2650          0.4087   \n",
       " 568           0.0000                0.0000          0.2871   \n",
       " \n",
       "      worst fractal dimension  \n",
       " 0                    0.11890  \n",
       " 1                    0.08902  \n",
       " 2                    0.08758  \n",
       " 3                    0.17300  \n",
       " 4                    0.07678  \n",
       " ..                       ...  \n",
       " 564                  0.07115  \n",
       " 565                  0.06637  \n",
       " 566                  0.07820  \n",
       " 567                  0.12400  \n",
       " 568                  0.07039  \n",
       " \n",
       " [569 rows x 30 columns],\n",
       " 0      0\n",
       " 1      0\n",
       " 2      0\n",
       " 3      0\n",
       " 4      0\n",
       "       ..\n",
       " 564    0\n",
       " 565    0\n",
       " 566    0\n",
       " 567    0\n",
       " 568    1\n",
       " Name: target, Length: 569, dtype: int32)"
      ]
     },
     "metadata": {},
     "execution_count": 41
    }
   ],
   "metadata": {
    "collapsed": false,
    "scrolled": true
   }
  },
  {
   "cell_type": "code",
   "execution_count": null,
   "metadata": {},
   "outputs": [],
   "source": [
    "# The last column 'target' has the labels.\n",
    "# Can also use cancerdf.ix[:,:-1] to select all columns but the last one.\n",
    "# cancerdf.ix[:,-1] to select just the last column.\n",
    "\n",
    "# def answer_three():\n",
    "#     cancerdf = answer_one()\n",
    "    \n",
    "#     X = cancerdf.drop('target', axis=1) # All columns but the last one.\n",
    "#     y = cancerdf['target'] # Just the last column.\n",
    "    \n",
    "#     return X, y\n",
    "\n",
    "# answer_three()\n"
   ]
  },
  {
   "cell_type": "markdown",
   "source": [
    "### Question 4\n",
    "Using `train_test_split`, split `X` and `y` into training and test sets `(X_train, X_test, y_train, and y_test)`.\n",
    "\n",
    "**Set the random number generator state to 0 using `random_state=0` to make sure your results match the autograder!**\n",
    "\n",
    "*This function should return a tuple of length 4:* `(X_train, X_test, y_train, y_test)`*, where* \n",
    "* `X_train` *has shape* `(426, 30)`\n",
    "* `X_test` *has shape* `(143, 30)`\n",
    "* `y_train` *has shape* `(426,)`\n",
    "* `y_test` *has shape* `(143,)`"
   ],
   "metadata": {}
  },
  {
   "cell_type": "code",
   "execution_count": 42,
   "source": [
    "from sklearn.model_selection import train_test_split\n",
    "\n",
    "def answer_four():\n",
    "    X, y = answer_three()\n",
    "    \n",
    "    X_train, X_test, y_train, y_test = train_test_split(X, y, random_state=0)\n",
    "    \n",
    "    return X_train, X_test, y_train, y_test\n",
    "\n",
    "answer_four()"
   ],
   "outputs": [
    {
     "output_type": "execute_result",
     "data": {
      "text/plain": [
       "(     mean radius  mean texture  mean perimeter  mean area  mean smoothness  \\\n",
       " 293       11.850         17.46           75.54      432.7          0.08372   \n",
       " 332       11.220         19.86           71.94      387.3          0.10540   \n",
       " 565       20.130         28.25          131.20     1261.0          0.09780   \n",
       " 278       13.590         17.84           86.24      572.3          0.07948   \n",
       " 489       16.690         20.20          107.10      857.6          0.07497   \n",
       " ..           ...           ...             ...        ...              ...   \n",
       " 277       18.810         19.98          120.90     1102.0          0.08923   \n",
       " 9         12.460         24.04           83.97      475.9          0.11860   \n",
       " 359        9.436         18.32           59.82      278.6          0.10090   \n",
       " 192        9.720         18.22           60.73      288.1          0.06950   \n",
       " 559       11.510         23.93           74.52      403.5          0.09261   \n",
       " \n",
       "      mean compactness  mean concavity  mean concave points  mean symmetry  \\\n",
       " 293           0.05642        0.026880             0.022800         0.1875   \n",
       " 332           0.06779        0.005006             0.007583         0.1940   \n",
       " 565           0.10340        0.144000             0.097910         0.1752   \n",
       " 278           0.04052        0.019970             0.012380         0.1573   \n",
       " 489           0.07112        0.036490             0.023070         0.1846   \n",
       " ..                ...             ...                  ...            ...   \n",
       " 277           0.05884        0.080200             0.058430         0.1550   \n",
       " 9             0.23960        0.227300             0.085430         0.2030   \n",
       " 359           0.05956        0.027100             0.014060         0.1506   \n",
       " 192           0.02344        0.000000             0.000000         0.1653   \n",
       " 559           0.10210        0.111200             0.041050         0.1388   \n",
       " \n",
       "      mean fractal dimension  ...  worst radius  worst texture  \\\n",
       " 293                 0.05715  ...        13.060          25.75   \n",
       " 332                 0.06028  ...        11.980          25.78   \n",
       " 565                 0.05533  ...        23.690          38.25   \n",
       " 278                 0.05520  ...        15.500          26.10   \n",
       " 489                 0.05325  ...        19.180          26.56   \n",
       " ..                      ...  ...           ...            ...   \n",
       " 277                 0.04996  ...        19.960          24.30   \n",
       " 9                   0.08243  ...        15.090          40.68   \n",
       " 359                 0.06959  ...        12.020          25.02   \n",
       " 192                 0.06447  ...         9.968          20.83   \n",
       " 559                 0.06570  ...        12.480          37.16   \n",
       " \n",
       "      worst perimeter  worst area  worst smoothness  worst compactness  \\\n",
       " 293            84.35       517.8           0.13690            0.17580   \n",
       " 332            76.91       436.1           0.14240            0.09669   \n",
       " 565           155.00      1731.0           0.11660            0.19220   \n",
       " 278            98.91       739.1           0.10500            0.07622   \n",
       " 489           127.30      1084.0           0.10090            0.29200   \n",
       " ..               ...         ...               ...                ...   \n",
       " 277           129.00      1236.0           0.12430            0.11600   \n",
       " 9              97.65       711.4           0.18530            1.05800   \n",
       " 359            75.79       439.6           0.13330            0.10490   \n",
       " 192            62.25       303.8           0.07117            0.02729   \n",
       " 559            82.28       474.2           0.12980            0.25170   \n",
       " \n",
       "      worst concavity  worst concave points  worst symmetry  \\\n",
       " 293          0.13160               0.09140          0.3101   \n",
       " 332          0.01335               0.02022          0.3292   \n",
       " 565          0.32150               0.16280          0.2572   \n",
       " 278          0.10600               0.05185          0.2335   \n",
       " 489          0.24770               0.08737          0.4677   \n",
       " ..               ...                   ...             ...   \n",
       " 277          0.22100               0.12940          0.2567   \n",
       " 9            1.10500               0.22100          0.4366   \n",
       " 359          0.11440               0.05052          0.2454   \n",
       " 192          0.00000               0.00000          0.1909   \n",
       " 559          0.36300               0.09653          0.2112   \n",
       " \n",
       "      worst fractal dimension  \n",
       " 293                  0.07007  \n",
       " 332                  0.06522  \n",
       " 565                  0.06637  \n",
       " 278                  0.06263  \n",
       " 489                  0.07623  \n",
       " ..                       ...  \n",
       " 277                  0.05737  \n",
       " 9                    0.20750  \n",
       " 359                  0.08136  \n",
       " 192                  0.06559  \n",
       " 559                  0.08732  \n",
       " \n",
       " [426 rows x 30 columns],\n",
       "      mean radius  mean texture  mean perimeter  mean area  mean smoothness  \\\n",
       " 512        13.40         20.52           88.64      556.7          0.11060   \n",
       " 457        13.21         25.25           84.10      537.9          0.08791   \n",
       " 439        14.02         15.66           89.59      606.5          0.07966   \n",
       " 298        14.26         18.17           91.22      633.1          0.06576   \n",
       " 37         13.03         18.42           82.61      523.8          0.08983   \n",
       " ..           ...           ...             ...        ...              ...   \n",
       " 236        23.21         26.97          153.50     1670.0          0.09509   \n",
       " 113        10.51         20.19           68.64      334.2          0.11220   \n",
       " 527        12.34         12.27           78.94      468.5          0.09003   \n",
       " 76         13.53         10.94           87.91      559.2          0.12910   \n",
       " 162        19.59         18.15          130.70     1214.0          0.11200   \n",
       " \n",
       "      mean compactness  mean concavity  mean concave points  mean symmetry  \\\n",
       " 512           0.14690         0.14450              0.08172         0.2116   \n",
       " 457           0.05205         0.02772              0.02068         0.1619   \n",
       " 439           0.05581         0.02087              0.02652         0.1589   \n",
       " 298           0.05220         0.02475              0.01374         0.1635   \n",
       " 37            0.03766         0.02562              0.02923         0.1467   \n",
       " ..                ...             ...                  ...            ...   \n",
       " 236           0.16820         0.19500              0.12370         0.1909   \n",
       " 113           0.13030         0.06476              0.03068         0.1922   \n",
       " 527           0.06307         0.02958              0.02647         0.1689   \n",
       " 76            0.10470         0.06877              0.06556         0.2403   \n",
       " 162           0.16660         0.25080              0.12860         0.2027   \n",
       " \n",
       "      mean fractal dimension  ...  worst radius  worst texture  \\\n",
       " 512                 0.07325  ...         16.41          29.66   \n",
       " 457                 0.05584  ...         14.35          34.23   \n",
       " 439                 0.05586  ...         14.91          19.31   \n",
       " 298                 0.05586  ...         16.22          25.26   \n",
       " 37                  0.05863  ...         13.30          22.81   \n",
       " ..                      ...  ...           ...            ...   \n",
       " 236                 0.06309  ...         31.01          34.51   \n",
       " 113                 0.07782  ...         11.16          22.75   \n",
       " 527                 0.05808  ...         13.61          19.27   \n",
       " 76                  0.06641  ...         14.08          12.49   \n",
       " 162                 0.06082  ...         26.73          26.39   \n",
       " \n",
       "      worst perimeter  worst area  worst smoothness  worst compactness  \\\n",
       " 512           113.30       844.4           0.15740            0.38560   \n",
       " 457            91.29       632.9           0.12890            0.10630   \n",
       " 439            96.53       688.9           0.10340            0.10170   \n",
       " 298           105.80       819.7           0.09445            0.21670   \n",
       " 37             84.46       545.9           0.09701            0.04619   \n",
       " ..               ...         ...               ...                ...   \n",
       " 236           206.00      2944.0           0.14810            0.41260   \n",
       " 113            72.62       374.4           0.13000            0.20490   \n",
       " 527            87.22       564.9           0.12920            0.20740   \n",
       " 76             91.36       605.5           0.14510            0.13790   \n",
       " 162           174.90      2232.0           0.14380            0.38460   \n",
       " \n",
       "      worst concavity  worst concave points  worst symmetry  \\\n",
       " 512          0.51060               0.20510          0.3585   \n",
       " 457          0.13900               0.06005          0.2444   \n",
       " 439          0.06260               0.08216          0.2136   \n",
       " 298          0.15650               0.07530          0.2636   \n",
       " 37           0.04833               0.05013          0.1987   \n",
       " ..               ...                   ...             ...   \n",
       " 236          0.58200               0.25930          0.3103   \n",
       " 113          0.12950               0.06136          0.2383   \n",
       " 527          0.17910               0.10700          0.3110   \n",
       " 76           0.08539               0.07407          0.2710   \n",
       " 162          0.68100               0.22470          0.3643   \n",
       " \n",
       "      worst fractal dimension  \n",
       " 512                  0.11090  \n",
       " 457                  0.06788  \n",
       " 439                  0.06710  \n",
       " 298                  0.07676  \n",
       " 37                   0.06169  \n",
       " ..                       ...  \n",
       " 236                  0.08677  \n",
       " 113                  0.09026  \n",
       " 527                  0.07592  \n",
       " 76                   0.07191  \n",
       " 162                  0.09223  \n",
       " \n",
       " [143 rows x 30 columns],\n",
       " 293    1\n",
       " 332    1\n",
       " 565    0\n",
       " 278    1\n",
       " 489    0\n",
       "       ..\n",
       " 277    0\n",
       " 9      0\n",
       " 359    1\n",
       " 192    1\n",
       " 559    1\n",
       " Name: target, Length: 426, dtype: int32,\n",
       " 512    0\n",
       " 457    1\n",
       " 439    1\n",
       " 298    1\n",
       " 37     1\n",
       "       ..\n",
       " 236    0\n",
       " 113    1\n",
       " 527    1\n",
       " 76     1\n",
       " 162    0\n",
       " Name: target, Length: 143, dtype: int32)"
      ]
     },
     "metadata": {},
     "execution_count": 42
    }
   ],
   "metadata": {
    "collapsed": false
   }
  },
  {
   "cell_type": "markdown",
   "source": [
    "### Question 5\n",
    "Using KNeighborsClassifier, fit a k-nearest neighbors (knn) classifier with `X_train`, `y_train` and using one nearest neighbor (`n_neighbors = 1`).\n",
    "\n",
    "*This function should return a * `sklearn.neighbors.classification.KNeighborsClassifier`."
   ],
   "metadata": {}
  },
  {
   "cell_type": "code",
   "execution_count": 43,
   "source": [
    "from sklearn.neighbors import KNeighborsClassifier\n",
    "\n",
    "def answer_five():\n",
    "    X_train, X_test, y_train, y_test = answer_four()\n",
    "    \n",
    "    knn = KNeighborsClassifier(n_neighbors = 1)\n",
    "    knn.fit(X_train, y_train)\n",
    "    \n",
    "    return knn\n",
    "\n",
    "answer_five()"
   ],
   "outputs": [
    {
     "output_type": "execute_result",
     "data": {
      "text/plain": [
       "KNeighborsClassifier(n_neighbors=1)"
      ]
     },
     "metadata": {},
     "execution_count": 43
    }
   ],
   "metadata": {
    "collapsed": false
   }
  },
  {
   "cell_type": "markdown",
   "source": [
    "### Question 6\n",
    "Using your knn classifier, predict the class label using the mean value for each feature.\n",
    "\n",
    "Hint: You can use `cancerdf.mean()[:-1].values.reshape(1, -1)` which gets the mean value for each feature, ignores the target column, and reshapes the data from 1 dimension to 2 (necessary for the precict method of KNeighborsClassifier).\n",
    "\n",
    "*This function should return a numpy array either `array([ 0.])` or `array([ 1.])`*"
   ],
   "metadata": {}
  },
  {
   "cell_type": "code",
   "execution_count": 83,
   "metadata": {},
   "outputs": [
    {
     "output_type": "execute_result",
     "data": {
      "text/plain": [
       "array([[1.41272917e+01, 1.92896485e+01, 9.19690334e+01, 6.54889104e+02,\n",
       "        9.63602812e-02, 1.04340984e-01, 8.87993158e-02, 4.89191459e-02,\n",
       "        1.81161863e-01, 6.27976098e-02, 4.05172056e-01, 1.21685343e+00,\n",
       "        2.86605923e+00, 4.03370791e+01, 7.04097891e-03, 2.54781388e-02,\n",
       "        3.18937163e-02, 1.17961371e-02, 2.05422988e-02, 3.79490387e-03,\n",
       "        1.62691898e+01, 2.56772232e+01, 1.07261213e+02, 8.80583128e+02,\n",
       "        1.32368594e-01, 2.54265044e-01, 2.72188483e-01, 1.14606223e-01,\n",
       "        2.90075571e-01, 8.39458172e-02]])"
      ]
     },
     "metadata": {},
     "execution_count": 83
    }
   ],
   "source": [
    "cancerdf = answer_one()\n",
    "knn = answer_five()\n",
    "    # Remember a dimension is added to whichever position has 1 in reshape.\n",
    "    # If you have reshape(1,-1) a dimension is added to the rows, i.e, the shape goes from being '30,' to '1,30'.\n",
    "    # If you do reshape(-1,1) a dimension is added the columns.\n",
    "means = cancerdf.mean()[:-1].values.reshape(1, -1)\n",
    "means"
   ]
  },
  {
   "cell_type": "code",
   "execution_count": 85,
   "source": [
    "def answer_six():\n",
    "    cancerdf = answer_one()\n",
    "    knn = answer_five()\n",
    "    # Remember a dimension is added to whichever position has 1 in reshape.\n",
    "    # If you have reshape(1,-1) a dimension is added to the rows, i.e, the shape goes from being '30,' to '1,30'.\n",
    "    # If you do reshape(-1,1) a dimension is added the columns.\n",
    "    means = cancerdf.mean()[:-1].values.reshape(1, -1)\n",
    "    #return means.shape\n",
    "    \n",
    "    pred = knn.predict(means)\n",
    "    return pred\n",
    "    \n",
    "answer_six()"
   ],
   "outputs": [
    {
     "output_type": "execute_result",
     "data": {
      "text/plain": [
       "array([1])"
      ]
     },
     "metadata": {},
     "execution_count": 85
    }
   ],
   "metadata": {
    "collapsed": false
   }
  },
  {
   "cell_type": "markdown",
   "source": [
    "### Question 7\n",
    "Using your knn classifier, predict the class labels for the test set `X_test`.\n",
    "\n",
    "*This function should return a numpy array with shape `(143,)` and values either `0.0` or `1.0`.*"
   ],
   "metadata": {}
  },
  {
   "cell_type": "code",
   "execution_count": 86,
   "source": [
    "def answer_seven():\n",
    "    X_train, X_test, y_train, y_test = answer_four()\n",
    "    knn = answer_five()\n",
    "    \n",
    "    pred1 = knn.predict(X_test)\n",
    "    return pred1\n",
    "\n",
    "answer_seven()"
   ],
   "outputs": [
    {
     "output_type": "execute_result",
     "data": {
      "text/plain": [
       "array([1, 1, 1, 0, 1, 1, 1, 1, 1, 1, 0, 1, 1, 1, 0, 0, 1, 0, 0, 0, 0, 1,\n",
       "       1, 1, 0, 1, 1, 1, 1, 0, 1, 0, 1, 0, 1, 0, 1, 0, 1, 0, 0, 1, 0, 1,\n",
       "       0, 0, 1, 1, 1, 0, 0, 1, 0, 1, 1, 1, 1, 1, 1, 0, 0, 0, 1, 1, 0, 1,\n",
       "       0, 0, 0, 1, 1, 0, 1, 1, 0, 1, 1, 1, 1, 1, 0, 0, 0, 1, 0, 1, 1, 1,\n",
       "       0, 0, 1, 0, 1, 0, 1, 1, 0, 1, 1, 1, 1, 1, 1, 1, 0, 1, 0, 1, 0, 1,\n",
       "       1, 0, 0, 1, 1, 1, 0, 1, 1, 1, 1, 1, 1, 1, 0, 1, 1, 1, 1, 1, 0, 1,\n",
       "       1, 1, 1, 1, 1, 0, 0, 1, 1, 1, 0])"
      ]
     },
     "metadata": {},
     "execution_count": 86
    }
   ],
   "metadata": {
    "collapsed": false
   }
  },
  {
   "cell_type": "markdown",
   "source": [
    "### Question 8\n",
    "Find the score (mean accuracy) of your knn classifier using `X_test` and `y_test`.\n",
    "\n",
    "*This function should return a float between 0 and 1*"
   ],
   "metadata": {}
  },
  {
   "cell_type": "code",
   "execution_count": 12,
   "source": [
    "def answer_eight():\n",
    "    X_train, X_test, y_train, y_test = answer_four()\n",
    "    knn = answer_five()\n",
    "    \n",
    "    return knn.score(X_test, y_test)\n",
    "\n",
    "answer_eight()"
   ],
   "outputs": [
    {
     "output_type": "execute_result",
     "data": {
      "text/plain": [
       "0.91608391608391604"
      ]
     },
     "metadata": {},
     "execution_count": 12
    }
   ],
   "metadata": {
    "collapsed": false
   }
  },
  {
   "cell_type": "markdown",
   "source": [
    "### Optional plot\n",
    "\n",
    "Try using the plotting function below to visualize the differet predicition scores between training and test sets, as well as malignant and benign cells."
   ],
   "metadata": {}
  },
  {
   "cell_type": "code",
   "execution_count": 13,
   "source": [
    "def accuracy_plot():\n",
    "    import matplotlib.pyplot as plt\n",
    "\n",
    "    %matplotlib notebook\n",
    "\n",
    "    X_train, X_test, y_train, y_test = answer_four()\n",
    "\n",
    "    # Find the training and testing accuracies by target value (i.e. malignant, benign)\n",
    "    mal_train_X = X_train[y_train==0]\n",
    "    mal_train_y = y_train[y_train==0]\n",
    "    ben_train_X = X_train[y_train==1]\n",
    "    ben_train_y = y_train[y_train==1]\n",
    "\n",
    "    mal_test_X = X_test[y_test==0]\n",
    "    mal_test_y = y_test[y_test==0]\n",
    "    ben_test_X = X_test[y_test==1]\n",
    "    ben_test_y = y_test[y_test==1]\n",
    "\n",
    "    knn = answer_five()\n",
    "\n",
    "    scores = [knn.score(mal_train_X, mal_train_y), knn.score(ben_train_X, ben_train_y), \n",
    "              knn.score(mal_test_X, mal_test_y), knn.score(ben_test_X, ben_test_y)]\n",
    "\n",
    "\n",
    "    plt.figure()\n",
    "\n",
    "    # Plot the scores as a bar chart\n",
    "    bars = plt.bar(np.arange(4), scores, color=['#4c72b0','#4c72b0','#55a868','#55a868'])\n",
    "\n",
    "    # directly label the score onto the bars\n",
    "    for bar in bars:\n",
    "        height = bar.get_height()\n",
    "        plt.gca().text(bar.get_x() + bar.get_width()/2, height*.90, '{0:.{1}f}'.format(height, 2), \n",
    "                     ha='center', color='w', fontsize=11)\n",
    "\n",
    "    # remove all the ticks (both axes), and tick labels on the Y axis\n",
    "    plt.tick_params(top='off', bottom='off', left='off', right='off', labelleft='off', labelbottom='on')\n",
    "\n",
    "    # remove the frame of the chart\n",
    "    for spine in plt.gca().spines.values():\n",
    "        spine.set_visible(False)\n",
    "\n",
    "    plt.xticks([0,1,2,3], ['Malignant\\nTraining', 'Benign\\nTraining', 'Malignant\\nTest', 'Benign\\nTest'], alpha=0.8);\n",
    "    plt.title('Training and Test Accuracies for Malignant and Benign Cells', alpha=0.8)"
   ],
   "outputs": [],
   "metadata": {
    "collapsed": true
   }
  },
  {
   "cell_type": "markdown",
   "source": [
    "Uncomment the plotting function to see the visualization.\n",
    "\n",
    "**Comment out** the plotting function when submitting your notebook for grading. "
   ],
   "metadata": {}
  },
  {
   "cell_type": "code",
   "execution_count": 14,
   "source": [
    "accuracy_plot() "
   ],
   "outputs": [
    {
     "output_type": "display_data",
     "data": {
      "text/plain": [
       "<IPython.core.display.Javascript object>"
      ],
      "application/javascript": "/* Put everything inside the global mpl namespace */\nwindow.mpl = {};\n\n\nmpl.get_websocket_type = function() {\n    if (typeof(WebSocket) !== 'undefined') {\n        return WebSocket;\n    } else if (typeof(MozWebSocket) !== 'undefined') {\n        return MozWebSocket;\n    } else {\n        alert('Your browser does not have WebSocket support.' +\n              'Please try Chrome, Safari or Firefox ≥ 6. ' +\n              'Firefox 4 and 5 are also supported but you ' +\n              'have to enable WebSockets in about:config.');\n    };\n}\n\nmpl.figure = function(figure_id, websocket, ondownload, parent_element) {\n    this.id = figure_id;\n\n    this.ws = websocket;\n\n    this.supports_binary = (this.ws.binaryType != undefined);\n\n    if (!this.supports_binary) {\n        var warnings = document.getElementById(\"mpl-warnings\");\n        if (warnings) {\n            warnings.style.display = 'block';\n            warnings.textContent = (\n                \"This browser does not support binary websocket messages. \" +\n                    \"Performance may be slow.\");\n        }\n    }\n\n    this.imageObj = new Image();\n\n    this.context = undefined;\n    this.message = undefined;\n    this.canvas = undefined;\n    this.rubberband_canvas = undefined;\n    this.rubberband_context = undefined;\n    this.format_dropdown = undefined;\n\n    this.image_mode = 'full';\n\n    this.root = $('<div/>');\n    this._root_extra_style(this.root)\n    this.root.attr('style', 'display: inline-block');\n\n    $(parent_element).append(this.root);\n\n    this._init_header(this);\n    this._init_canvas(this);\n    this._init_toolbar(this);\n\n    var fig = this;\n\n    this.waiting = false;\n\n    this.ws.onopen =  function () {\n            fig.send_message(\"supports_binary\", {value: fig.supports_binary});\n            fig.send_message(\"send_image_mode\", {});\n            if (mpl.ratio != 1) {\n                fig.send_message(\"set_dpi_ratio\", {'dpi_ratio': mpl.ratio});\n            }\n            fig.send_message(\"refresh\", {});\n        }\n\n    this.imageObj.onload = function() {\n            if (fig.image_mode == 'full') {\n                // Full images could contain transparency (where diff images\n                // almost always do), so we need to clear the canvas so that\n                // there is no ghosting.\n                fig.context.clearRect(0, 0, fig.canvas.width, fig.canvas.height);\n            }\n            fig.context.drawImage(fig.imageObj, 0, 0);\n        };\n\n    this.imageObj.onunload = function() {\n        this.ws.close();\n    }\n\n    this.ws.onmessage = this._make_on_message_function(this);\n\n    this.ondownload = ondownload;\n}\n\nmpl.figure.prototype._init_header = function() {\n    var titlebar = $(\n        '<div class=\"ui-dialog-titlebar ui-widget-header ui-corner-all ' +\n        'ui-helper-clearfix\"/>');\n    var titletext = $(\n        '<div class=\"ui-dialog-title\" style=\"width: 100%; ' +\n        'text-align: center; padding: 3px;\"/>');\n    titlebar.append(titletext)\n    this.root.append(titlebar);\n    this.header = titletext[0];\n}\n\n\n\nmpl.figure.prototype._canvas_extra_style = function(canvas_div) {\n\n}\n\n\nmpl.figure.prototype._root_extra_style = function(canvas_div) {\n\n}\n\nmpl.figure.prototype._init_canvas = function() {\n    var fig = this;\n\n    var canvas_div = $('<div/>');\n\n    canvas_div.attr('style', 'position: relative; clear: both; outline: 0');\n\n    function canvas_keyboard_event(event) {\n        return fig.key_event(event, event['data']);\n    }\n\n    canvas_div.keydown('key_press', canvas_keyboard_event);\n    canvas_div.keyup('key_release', canvas_keyboard_event);\n    this.canvas_div = canvas_div\n    this._canvas_extra_style(canvas_div)\n    this.root.append(canvas_div);\n\n    var canvas = $('<canvas/>');\n    canvas.addClass('mpl-canvas');\n    canvas.attr('style', \"left: 0; top: 0; z-index: 0; outline: 0\")\n\n    this.canvas = canvas[0];\n    this.context = canvas[0].getContext(\"2d\");\n\n    var backingStore = this.context.backingStorePixelRatio ||\n\tthis.context.webkitBackingStorePixelRatio ||\n\tthis.context.mozBackingStorePixelRatio ||\n\tthis.context.msBackingStorePixelRatio ||\n\tthis.context.oBackingStorePixelRatio ||\n\tthis.context.backingStorePixelRatio || 1;\n\n    mpl.ratio = (window.devicePixelRatio || 1) / backingStore;\n\n    var rubberband = $('<canvas/>');\n    rubberband.attr('style', \"position: absolute; left: 0; top: 0; z-index: 1;\")\n\n    var pass_mouse_events = true;\n\n    canvas_div.resizable({\n        start: function(event, ui) {\n            pass_mouse_events = false;\n        },\n        resize: function(event, ui) {\n            fig.request_resize(ui.size.width, ui.size.height);\n        },\n        stop: function(event, ui) {\n            pass_mouse_events = true;\n            fig.request_resize(ui.size.width, ui.size.height);\n        },\n    });\n\n    function mouse_event_fn(event) {\n        if (pass_mouse_events)\n            return fig.mouse_event(event, event['data']);\n    }\n\n    rubberband.mousedown('button_press', mouse_event_fn);\n    rubberband.mouseup('button_release', mouse_event_fn);\n    // Throttle sequential mouse events to 1 every 20ms.\n    rubberband.mousemove('motion_notify', mouse_event_fn);\n\n    rubberband.mouseenter('figure_enter', mouse_event_fn);\n    rubberband.mouseleave('figure_leave', mouse_event_fn);\n\n    canvas_div.on(\"wheel\", function (event) {\n        event = event.originalEvent;\n        event['data'] = 'scroll'\n        if (event.deltaY < 0) {\n            event.step = 1;\n        } else {\n            event.step = -1;\n        }\n        mouse_event_fn(event);\n    });\n\n    canvas_div.append(canvas);\n    canvas_div.append(rubberband);\n\n    this.rubberband = rubberband;\n    this.rubberband_canvas = rubberband[0];\n    this.rubberband_context = rubberband[0].getContext(\"2d\");\n    this.rubberband_context.strokeStyle = \"#000000\";\n\n    this._resize_canvas = function(width, height) {\n        // Keep the size of the canvas, canvas container, and rubber band\n        // canvas in synch.\n        canvas_div.css('width', width)\n        canvas_div.css('height', height)\n\n        canvas.attr('width', width * mpl.ratio);\n        canvas.attr('height', height * mpl.ratio);\n        canvas.attr('style', 'width: ' + width + 'px; height: ' + height + 'px;');\n\n        rubberband.attr('width', width);\n        rubberband.attr('height', height);\n    }\n\n    // Set the figure to an initial 600x600px, this will subsequently be updated\n    // upon first draw.\n    this._resize_canvas(600, 600);\n\n    // Disable right mouse context menu.\n    $(this.rubberband_canvas).bind(\"contextmenu\",function(e){\n        return false;\n    });\n\n    function set_focus () {\n        canvas.focus();\n        canvas_div.focus();\n    }\n\n    window.setTimeout(set_focus, 100);\n}\n\nmpl.figure.prototype._init_toolbar = function() {\n    var fig = this;\n\n    var nav_element = $('<div/>')\n    nav_element.attr('style', 'width: 100%');\n    this.root.append(nav_element);\n\n    // Define a callback function for later on.\n    function toolbar_event(event) {\n        return fig.toolbar_button_onclick(event['data']);\n    }\n    function toolbar_mouse_event(event) {\n        return fig.toolbar_button_onmouseover(event['data']);\n    }\n\n    for(var toolbar_ind in mpl.toolbar_items) {\n        var name = mpl.toolbar_items[toolbar_ind][0];\n        var tooltip = mpl.toolbar_items[toolbar_ind][1];\n        var image = mpl.toolbar_items[toolbar_ind][2];\n        var method_name = mpl.toolbar_items[toolbar_ind][3];\n\n        if (!name) {\n            // put a spacer in here.\n            continue;\n        }\n        var button = $('<button/>');\n        button.addClass('ui-button ui-widget ui-state-default ui-corner-all ' +\n                        'ui-button-icon-only');\n        button.attr('role', 'button');\n        button.attr('aria-disabled', 'false');\n        button.click(method_name, toolbar_event);\n        button.mouseover(tooltip, toolbar_mouse_event);\n\n        var icon_img = $('<span/>');\n        icon_img.addClass('ui-button-icon-primary ui-icon');\n        icon_img.addClass(image);\n        icon_img.addClass('ui-corner-all');\n\n        var tooltip_span = $('<span/>');\n        tooltip_span.addClass('ui-button-text');\n        tooltip_span.html(tooltip);\n\n        button.append(icon_img);\n        button.append(tooltip_span);\n\n        nav_element.append(button);\n    }\n\n    var fmt_picker_span = $('<span/>');\n\n    var fmt_picker = $('<select/>');\n    fmt_picker.addClass('mpl-toolbar-option ui-widget ui-widget-content');\n    fmt_picker_span.append(fmt_picker);\n    nav_element.append(fmt_picker_span);\n    this.format_dropdown = fmt_picker[0];\n\n    for (var ind in mpl.extensions) {\n        var fmt = mpl.extensions[ind];\n        var option = $(\n            '<option/>', {selected: fmt === mpl.default_extension}).html(fmt);\n        fmt_picker.append(option)\n    }\n\n    // Add hover states to the ui-buttons\n    $( \".ui-button\" ).hover(\n        function() { $(this).addClass(\"ui-state-hover\");},\n        function() { $(this).removeClass(\"ui-state-hover\");}\n    );\n\n    var status_bar = $('<span class=\"mpl-message\"/>');\n    nav_element.append(status_bar);\n    this.message = status_bar[0];\n}\n\nmpl.figure.prototype.request_resize = function(x_pixels, y_pixels) {\n    // Request matplotlib to resize the figure. Matplotlib will then trigger a resize in the client,\n    // which will in turn request a refresh of the image.\n    this.send_message('resize', {'width': x_pixels, 'height': y_pixels});\n}\n\nmpl.figure.prototype.send_message = function(type, properties) {\n    properties['type'] = type;\n    properties['figure_id'] = this.id;\n    this.ws.send(JSON.stringify(properties));\n}\n\nmpl.figure.prototype.send_draw_message = function() {\n    if (!this.waiting) {\n        this.waiting = true;\n        this.ws.send(JSON.stringify({type: \"draw\", figure_id: this.id}));\n    }\n}\n\n\nmpl.figure.prototype.handle_save = function(fig, msg) {\n    var format_dropdown = fig.format_dropdown;\n    var format = format_dropdown.options[format_dropdown.selectedIndex].value;\n    fig.ondownload(fig, format);\n}\n\n\nmpl.figure.prototype.handle_resize = function(fig, msg) {\n    var size = msg['size'];\n    if (size[0] != fig.canvas.width || size[1] != fig.canvas.height) {\n        fig._resize_canvas(size[0], size[1]);\n        fig.send_message(\"refresh\", {});\n    };\n}\n\nmpl.figure.prototype.handle_rubberband = function(fig, msg) {\n    var x0 = msg['x0'] / mpl.ratio;\n    var y0 = (fig.canvas.height - msg['y0']) / mpl.ratio;\n    var x1 = msg['x1'] / mpl.ratio;\n    var y1 = (fig.canvas.height - msg['y1']) / mpl.ratio;\n    x0 = Math.floor(x0) + 0.5;\n    y0 = Math.floor(y0) + 0.5;\n    x1 = Math.floor(x1) + 0.5;\n    y1 = Math.floor(y1) + 0.5;\n    var min_x = Math.min(x0, x1);\n    var min_y = Math.min(y0, y1);\n    var width = Math.abs(x1 - x0);\n    var height = Math.abs(y1 - y0);\n\n    fig.rubberband_context.clearRect(\n        0, 0, fig.canvas.width, fig.canvas.height);\n\n    fig.rubberband_context.strokeRect(min_x, min_y, width, height);\n}\n\nmpl.figure.prototype.handle_figure_label = function(fig, msg) {\n    // Updates the figure title.\n    fig.header.textContent = msg['label'];\n}\n\nmpl.figure.prototype.handle_cursor = function(fig, msg) {\n    var cursor = msg['cursor'];\n    switch(cursor)\n    {\n    case 0:\n        cursor = 'pointer';\n        break;\n    case 1:\n        cursor = 'default';\n        break;\n    case 2:\n        cursor = 'crosshair';\n        break;\n    case 3:\n        cursor = 'move';\n        break;\n    }\n    fig.rubberband_canvas.style.cursor = cursor;\n}\n\nmpl.figure.prototype.handle_message = function(fig, msg) {\n    fig.message.textContent = msg['message'];\n}\n\nmpl.figure.prototype.handle_draw = function(fig, msg) {\n    // Request the server to send over a new figure.\n    fig.send_draw_message();\n}\n\nmpl.figure.prototype.handle_image_mode = function(fig, msg) {\n    fig.image_mode = msg['mode'];\n}\n\nmpl.figure.prototype.updated_canvas_event = function() {\n    // Called whenever the canvas gets updated.\n    this.send_message(\"ack\", {});\n}\n\n// A function to construct a web socket function for onmessage handling.\n// Called in the figure constructor.\nmpl.figure.prototype._make_on_message_function = function(fig) {\n    return function socket_on_message(evt) {\n        if (evt.data instanceof Blob) {\n            /* FIXME: We get \"Resource interpreted as Image but\n             * transferred with MIME type text/plain:\" errors on\n             * Chrome.  But how to set the MIME type?  It doesn't seem\n             * to be part of the websocket stream */\n            evt.data.type = \"image/png\";\n\n            /* Free the memory for the previous frames */\n            if (fig.imageObj.src) {\n                (window.URL || window.webkitURL).revokeObjectURL(\n                    fig.imageObj.src);\n            }\n\n            fig.imageObj.src = (window.URL || window.webkitURL).createObjectURL(\n                evt.data);\n            fig.updated_canvas_event();\n            fig.waiting = false;\n            return;\n        }\n        else if (typeof evt.data === 'string' && evt.data.slice(0, 21) == \"data:image/png;base64\") {\n            fig.imageObj.src = evt.data;\n            fig.updated_canvas_event();\n            fig.waiting = false;\n            return;\n        }\n\n        var msg = JSON.parse(evt.data);\n        var msg_type = msg['type'];\n\n        // Call the  \"handle_{type}\" callback, which takes\n        // the figure and JSON message as its only arguments.\n        try {\n            var callback = fig[\"handle_\" + msg_type];\n        } catch (e) {\n            console.log(\"No handler for the '\" + msg_type + \"' message type: \", msg);\n            return;\n        }\n\n        if (callback) {\n            try {\n                // console.log(\"Handling '\" + msg_type + \"' message: \", msg);\n                callback(fig, msg);\n            } catch (e) {\n                console.log(\"Exception inside the 'handler_\" + msg_type + \"' callback:\", e, e.stack, msg);\n            }\n        }\n    };\n}\n\n// from http://stackoverflow.com/questions/1114465/getting-mouse-location-in-canvas\nmpl.findpos = function(e) {\n    //this section is from http://www.quirksmode.org/js/events_properties.html\n    var targ;\n    if (!e)\n        e = window.event;\n    if (e.target)\n        targ = e.target;\n    else if (e.srcElement)\n        targ = e.srcElement;\n    if (targ.nodeType == 3) // defeat Safari bug\n        targ = targ.parentNode;\n\n    // jQuery normalizes the pageX and pageY\n    // pageX,Y are the mouse positions relative to the document\n    // offset() returns the position of the element relative to the document\n    var x = e.pageX - $(targ).offset().left;\n    var y = e.pageY - $(targ).offset().top;\n\n    return {\"x\": x, \"y\": y};\n};\n\n/*\n * return a copy of an object with only non-object keys\n * we need this to avoid circular references\n * http://stackoverflow.com/a/24161582/3208463\n */\nfunction simpleKeys (original) {\n  return Object.keys(original).reduce(function (obj, key) {\n    if (typeof original[key] !== 'object')\n        obj[key] = original[key]\n    return obj;\n  }, {});\n}\n\nmpl.figure.prototype.mouse_event = function(event, name) {\n    var canvas_pos = mpl.findpos(event)\n\n    if (name === 'button_press')\n    {\n        this.canvas.focus();\n        this.canvas_div.focus();\n    }\n\n    var x = canvas_pos.x * mpl.ratio;\n    var y = canvas_pos.y * mpl.ratio;\n\n    this.send_message(name, {x: x, y: y, button: event.button,\n                             step: event.step,\n                             guiEvent: simpleKeys(event)});\n\n    /* This prevents the web browser from automatically changing to\n     * the text insertion cursor when the button is pressed.  We want\n     * to control all of the cursor setting manually through the\n     * 'cursor' event from matplotlib */\n    event.preventDefault();\n    return false;\n}\n\nmpl.figure.prototype._key_event_extra = function(event, name) {\n    // Handle any extra behaviour associated with a key event\n}\n\nmpl.figure.prototype.key_event = function(event, name) {\n\n    // Prevent repeat events\n    if (name == 'key_press')\n    {\n        if (event.which === this._key)\n            return;\n        else\n            this._key = event.which;\n    }\n    if (name == 'key_release')\n        this._key = null;\n\n    var value = '';\n    if (event.ctrlKey && event.which != 17)\n        value += \"ctrl+\";\n    if (event.altKey && event.which != 18)\n        value += \"alt+\";\n    if (event.shiftKey && event.which != 16)\n        value += \"shift+\";\n\n    value += 'k';\n    value += event.which.toString();\n\n    this._key_event_extra(event, name);\n\n    this.send_message(name, {key: value,\n                             guiEvent: simpleKeys(event)});\n    return false;\n}\n\nmpl.figure.prototype.toolbar_button_onclick = function(name) {\n    if (name == 'download') {\n        this.handle_save(this, null);\n    } else {\n        this.send_message(\"toolbar_button\", {name: name});\n    }\n};\n\nmpl.figure.prototype.toolbar_button_onmouseover = function(tooltip) {\n    this.message.textContent = tooltip;\n};\nmpl.toolbar_items = [[\"Home\", \"Reset original view\", \"fa fa-home icon-home\", \"home\"], [\"Back\", \"Back to  previous view\", \"fa fa-arrow-left icon-arrow-left\", \"back\"], [\"Forward\", \"Forward to next view\", \"fa fa-arrow-right icon-arrow-right\", \"forward\"], [\"\", \"\", \"\", \"\"], [\"Pan\", \"Pan axes with left mouse, zoom with right\", \"fa fa-arrows icon-move\", \"pan\"], [\"Zoom\", \"Zoom to rectangle\", \"fa fa-square-o icon-check-empty\", \"zoom\"], [\"\", \"\", \"\", \"\"], [\"Download\", \"Download plot\", \"fa fa-floppy-o icon-save\", \"download\"]];\n\nmpl.extensions = [\"eps\", \"jpeg\", \"pdf\", \"png\", \"ps\", \"raw\", \"svg\", \"tif\"];\n\nmpl.default_extension = \"png\";var comm_websocket_adapter = function(comm) {\n    // Create a \"websocket\"-like object which calls the given IPython comm\n    // object with the appropriate methods. Currently this is a non binary\n    // socket, so there is still some room for performance tuning.\n    var ws = {};\n\n    ws.close = function() {\n        comm.close()\n    };\n    ws.send = function(m) {\n        //console.log('sending', m);\n        comm.send(m);\n    };\n    // Register the callback with on_msg.\n    comm.on_msg(function(msg) {\n        //console.log('receiving', msg['content']['data'], msg);\n        // Pass the mpl event to the overriden (by mpl) onmessage function.\n        ws.onmessage(msg['content']['data'])\n    });\n    return ws;\n}\n\nmpl.mpl_figure_comm = function(comm, msg) {\n    // This is the function which gets called when the mpl process\n    // starts-up an IPython Comm through the \"matplotlib\" channel.\n\n    var id = msg.content.data.id;\n    // Get hold of the div created by the display call when the Comm\n    // socket was opened in Python.\n    var element = $(\"#\" + id);\n    var ws_proxy = comm_websocket_adapter(comm)\n\n    function ondownload(figure, format) {\n        window.open(figure.imageObj.src);\n    }\n\n    var fig = new mpl.figure(id, ws_proxy,\n                           ondownload,\n                           element.get(0));\n\n    // Call onopen now - mpl needs it, as it is assuming we've passed it a real\n    // web socket which is closed, not our websocket->open comm proxy.\n    ws_proxy.onopen();\n\n    fig.parent_element = element.get(0);\n    fig.cell_info = mpl.find_output_cell(\"<div id='\" + id + \"'></div>\");\n    if (!fig.cell_info) {\n        console.error(\"Failed to find cell for figure\", id, fig);\n        return;\n    }\n\n    var output_index = fig.cell_info[2]\n    var cell = fig.cell_info[0];\n\n};\n\nmpl.figure.prototype.handle_close = function(fig, msg) {\n    var width = fig.canvas.width/mpl.ratio\n    fig.root.unbind('remove')\n\n    // Update the output cell to use the data from the current canvas.\n    fig.push_to_output();\n    var dataURL = fig.canvas.toDataURL();\n    // Re-enable the keyboard manager in IPython - without this line, in FF,\n    // the notebook keyboard shortcuts fail.\n    IPython.keyboard_manager.enable()\n    $(fig.parent_element).html('<img src=\"' + dataURL + '\" width=\"' + width + '\">');\n    fig.close_ws(fig, msg);\n}\n\nmpl.figure.prototype.close_ws = function(fig, msg){\n    fig.send_message('closing', msg);\n    // fig.ws.close()\n}\n\nmpl.figure.prototype.push_to_output = function(remove_interactive) {\n    // Turn the data on the canvas into data in the output cell.\n    var width = this.canvas.width/mpl.ratio\n    var dataURL = this.canvas.toDataURL();\n    this.cell_info[1]['text/html'] = '<img src=\"' + dataURL + '\" width=\"' + width + '\">';\n}\n\nmpl.figure.prototype.updated_canvas_event = function() {\n    // Tell IPython that the notebook contents must change.\n    IPython.notebook.set_dirty(true);\n    this.send_message(\"ack\", {});\n    var fig = this;\n    // Wait a second, then push the new image to the DOM so\n    // that it is saved nicely (might be nice to debounce this).\n    setTimeout(function () { fig.push_to_output() }, 1000);\n}\n\nmpl.figure.prototype._init_toolbar = function() {\n    var fig = this;\n\n    var nav_element = $('<div/>')\n    nav_element.attr('style', 'width: 100%');\n    this.root.append(nav_element);\n\n    // Define a callback function for later on.\n    function toolbar_event(event) {\n        return fig.toolbar_button_onclick(event['data']);\n    }\n    function toolbar_mouse_event(event) {\n        return fig.toolbar_button_onmouseover(event['data']);\n    }\n\n    for(var toolbar_ind in mpl.toolbar_items){\n        var name = mpl.toolbar_items[toolbar_ind][0];\n        var tooltip = mpl.toolbar_items[toolbar_ind][1];\n        var image = mpl.toolbar_items[toolbar_ind][2];\n        var method_name = mpl.toolbar_items[toolbar_ind][3];\n\n        if (!name) { continue; };\n\n        var button = $('<button class=\"btn btn-default\" href=\"#\" title=\"' + name + '\"><i class=\"fa ' + image + ' fa-lg\"></i></button>');\n        button.click(method_name, toolbar_event);\n        button.mouseover(tooltip, toolbar_mouse_event);\n        nav_element.append(button);\n    }\n\n    // Add the status bar.\n    var status_bar = $('<span class=\"mpl-message\" style=\"text-align:right; float: right;\"/>');\n    nav_element.append(status_bar);\n    this.message = status_bar[0];\n\n    // Add the close button to the window.\n    var buttongrp = $('<div class=\"btn-group inline pull-right\"></div>');\n    var button = $('<button class=\"btn btn-mini btn-primary\" href=\"#\" title=\"Stop Interaction\"><i class=\"fa fa-power-off icon-remove icon-large\"></i></button>');\n    button.click(function (evt) { fig.handle_close(fig, {}); } );\n    button.mouseover('Stop Interaction', toolbar_mouse_event);\n    buttongrp.append(button);\n    var titlebar = this.root.find($('.ui-dialog-titlebar'));\n    titlebar.prepend(buttongrp);\n}\n\nmpl.figure.prototype._root_extra_style = function(el){\n    var fig = this\n    el.on(\"remove\", function(){\n\tfig.close_ws(fig, {});\n    });\n}\n\nmpl.figure.prototype._canvas_extra_style = function(el){\n    // this is important to make the div 'focusable\n    el.attr('tabindex', 0)\n    // reach out to IPython and tell the keyboard manager to turn it's self\n    // off when our div gets focus\n\n    // location in version 3\n    if (IPython.notebook.keyboard_manager) {\n        IPython.notebook.keyboard_manager.register_events(el);\n    }\n    else {\n        // location in version 2\n        IPython.keyboard_manager.register_events(el);\n    }\n\n}\n\nmpl.figure.prototype._key_event_extra = function(event, name) {\n    var manager = IPython.notebook.keyboard_manager;\n    if (!manager)\n        manager = IPython.keyboard_manager;\n\n    // Check for shift+enter\n    if (event.shiftKey && event.which == 13) {\n        this.canvas_div.blur();\n        // select the cell after this one\n        var index = IPython.notebook.find_cell_index(this.cell_info[0]);\n        IPython.notebook.select(index + 1);\n    }\n}\n\nmpl.figure.prototype.handle_save = function(fig, msg) {\n    fig.ondownload(fig, null);\n}\n\n\nmpl.find_output_cell = function(html_output) {\n    // Return the cell and output element which can be found *uniquely* in the notebook.\n    // Note - this is a bit hacky, but it is done because the \"notebook_saving.Notebook\"\n    // IPython event is triggered only after the cells have been serialised, which for\n    // our purposes (turning an active figure into a static one), is too late.\n    var cells = IPython.notebook.get_cells();\n    var ncells = cells.length;\n    for (var i=0; i<ncells; i++) {\n        var cell = cells[i];\n        if (cell.cell_type === 'code'){\n            for (var j=0; j<cell.output_area.outputs.length; j++) {\n                var data = cell.output_area.outputs[j];\n                if (data.data) {\n                    // IPython >= 3 moved mimebundle to data attribute of output\n                    data = data.data;\n                }\n                if (data['text/html'] == html_output) {\n                    return [cell, data, j];\n                }\n            }\n        }\n    }\n}\n\n// Register the function which deals with the matplotlib target/channel.\n// The kernel may be null if the page has been refreshed.\nif (IPython.notebook.kernel != null) {\n    IPython.notebook.kernel.comm_manager.register_target('matplotlib', mpl.mpl_figure_comm);\n}\n"
     },
     "metadata": {}
    },
    {
     "output_type": "display_data",
     "data": {
      "text/plain": [
       "<IPython.core.display.HTML object>"
      ],
      "text/html": [
       "<img src=\"data:image/png;base64,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\" width=\"640\">"
      ]
     },
     "metadata": {}
    }
   ],
   "metadata": {
    "collapsed": false
   }
  },
  {
   "cell_type": "markdown",
   "source": [
    "### "
   ],
   "metadata": {}
  },
  {
   "cell_type": "code",
   "execution_count": null,
   "source": [],
   "outputs": [],
   "metadata": {
    "collapsed": true
   }
  }
 ],
 "metadata": {
  "coursera": {
   "course_slug": "python-machine-learning",
   "graded_item_id": "f9SY5",
   "launcher_item_id": "oxndk",
   "part_id": "mh1Vo"
  },
  "kernelspec": {
   "name": "python3",
   "display_name": "Python 3.8.8 64-bit ('base': conda)"
  },
  "language_info": {
   "codemirror_mode": {
    "name": "ipython",
    "version": 3
   },
   "file_extension": ".py",
   "mimetype": "text/x-python",
   "name": "python",
   "nbconvert_exporter": "python",
   "pygments_lexer": "ipython3",
   "version": "3.8.8"
  },
  "interpreter": {
   "hash": "1a1c8e5b53816e48015fa76ea3d1ab04c09fe9ec79358180f2fd426c46aa1d3b"
  }
 },
 "nbformat": 4,
 "nbformat_minor": 2
}